{
    "nbformat_minor": 2, 
    "cells": [
        {
            "source": "import pandas as pd\nimport numpy as np\nimport matplotlib.pyplot as plt\n\nfrom sklearn.model_selection import train_test_split, cross_val_score, GridSearchCV\nfrom sklearn.linear_model import LogisticRegressionCV, LogisticRegression\nfrom sklearn.tree import DecisionTreeClassifier, ExtraTreeClassifier\nfrom sklearn.ensemble import RandomForestClassifier, GradientBoostingClassifier, BaggingClassifier, AdaBoostClassifier\nfrom sklearn.preprocessing import StandardScaler, PolynomialFeatures\nfrom sklearn.neighbors import KNeighborsClassifier\nfrom sklearn import naive_bayes\nfrom sklearn.naive_bayes import MultinomialNB\nfrom sklearn.decomposition import PCA\nfrom sklearn.metrics import accuracy_score, r2_score, confusion_matrix\nfrom sklearn import svm\n\nfrom xgboost import XGBClassifier\n\nfrom keras.models import Sequential\nfrom keras.layers import Dense, Dropout\nfrom keras import regularizers\nfrom keras.callbacks import EarlyStopping\nfrom keras.utils import to_categorical\n\nimport warnings\n\n%matplotlib inline", 
            "cell_type": "code", 
            "metadata": {}, 
            "outputs": [], 
            "execution_count": 246
        }, 
        {
            "source": "df = pd.read_csv('../dataset/preprocessed_data_classification_Z_B.csv', index_col=0)", 
            "cell_type": "code", 
            "metadata": {}, 
            "outputs": [], 
            "execution_count": 247
        }, 
        {
            "source": "### Baseline accuracy", 
            "cell_type": "markdown", 
            "metadata": {}
        }, 
        {
            "source": "df.score.value_counts()", 
            "cell_type": "code", 
            "metadata": {}, 
            "outputs": [
                {
                    "execution_count": 248, 
                    "output_type": "execute_result", 
                    "data": {
                        "text/plain": "0    6906\n1     801\nName: score, dtype: int64"
                    }, 
                    "metadata": {}
                }
            ], 
            "execution_count": 248
        }, 
        {
            "source": "6906 / (6906+801)", 
            "cell_type": "code", 
            "metadata": {}, 
            "outputs": [
                {
                    "execution_count": 249, 
                    "output_type": "execute_result", 
                    "data": {
                        "text/plain": "0.8960685091475282"
                    }, 
                    "metadata": {}
                }
            ], 
            "execution_count": 249
        }, 
        {
            "source": "# Class count\ncount_class_0, count_class_1 = df.score.value_counts()\n\n# Divide by class\ndf_class_0 = df[df['score'] == 0]\ndf_class_1 = df[df['score'] == 1]\n\nprint('Befor re-sampling:')\nprint(df.score.value_counts())\n\ndf.score.value_counts().plot(kind='bar', title='Count (target)');", 
            "cell_type": "code", 
            "metadata": {}, 
            "outputs": [
                {
                    "output_type": "stream", 
                    "name": "stdout", 
                    "text": "Befor re-sampling:\n0    6906\n1     801\nName: score, dtype: int64\n"
                }, 
                {
                    "output_type": "display_data", 
                    "data": {
                        "image/png": "[encoded data removed]", 
                        "text/plain": "<Figure size 432x288 with 1 Axes>"
                    }, 
                    "metadata": {
                        "needs_background": "light"
                    }
                }
            ], 
            "execution_count": 250
        }, 
        {
            "source": "df_class_1_over = df_class_1.sample(count_class_0, replace=True)\n\ndf_over = pd.concat([df_class_0, df_class_1_over], axis=0)\n\nprint('Random over-sampling:')\nprint(df_over.score.value_counts())\n\ndf_over.score.value_counts().plot(kind='bar', title='Count (target)');", 
            "cell_type": "code", 
            "metadata": {}, 
            "outputs": [
                {
                    "output_type": "stream", 
                    "name": "stdout", 
                    "text": "Random over-sampling:\n1    6906\n0    6906\nName: score, dtype: int64\n"
                }, 
                {
                    "output_type": "display_data", 
                    "data": {
                        "image/png": "[encoded data removed]", 
                        "text/plain": "<Figure size 432x288 with 1 Axes>"
                    }, 
                    "metadata": {
                        "needs_background": "light"
                    }
                }
            ], 
            "execution_count": 251
        }, 
        {
            "source": "", 
            "cell_type": "code", 
            "metadata": {}, 
            "outputs": [], 
            "execution_count": null
        }, 
        {
            "source": "", 
            "cell_type": "code", 
            "metadata": {}, 
            "outputs": [], 
            "execution_count": null
        }, 
        {
            "source": "warnings.filterwarnings('ignore')", 
            "cell_type": "code", 
            "metadata": {}, 
            "outputs": [], 
            "execution_count": 252
        }, 
        {
            "source": "def scores(models):\n    X = df_over.drop(columns=['score'])\n    y = df_over['score']\n    \n    X_train, X_test, y_train, y_test = train_test_split(X, y, random_state = 42, stratify = y)\n    \n    model = StandardScaler()\n    X_train_sc = model.fit_transform(X_train)\n    X_test_sc = model.transform(X_test)\n    data = pd.DataFrame(columns=['model', 'cross-val', 'train', 'test'])\n\n    for i in models:\n        i.fit(X_train_sc, y_train)\n        data = data.append({'model': str(i),\n                        'cross-val': cross_val_score(i, X_train_sc, y_train).mean(),\n                        'train': i.score(X_train_sc, y_train),\n                        'test': i.score(X_test_sc, y_test)}, ignore_index=True)\n    return data", 
            "cell_type": "code", 
            "metadata": {}, 
            "outputs": [], 
            "execution_count": 253
        }, 
        {
            "source": "random_forest = RandomForestClassifier()\nextra_tree = ExtraTreeClassifier()\ndecision_tree = DecisionTreeClassifier()\nbagged_tree = BaggingClassifier()\nlogreg = LogisticRegression()\nknn = KNeighborsClassifier()", 
            "cell_type": "code", 
            "metadata": {}, 
            "outputs": [], 
            "execution_count": 254
        }, 
        {
            "source": "a = scores([random_forest, extra_tree, decision_tree, bagged_tree, logreg, knn])", 
            "cell_type": "code", 
            "metadata": {}, 
            "outputs": [], 
            "execution_count": 255
        }, 
        {
            "source": "a", 
            "cell_type": "code", 
            "metadata": {}, 
            "outputs": [
                {
                    "execution_count": 256, 
                    "output_type": "execute_result", 
                    "data": {
                        "text/plain": "                                               model  cross-val     train  \\\n0  RandomForestClassifier(bootstrap=True, class_w...   0.905685  0.959166   \n1  ExtraTreeClassifier(class_weight=None, criteri...   0.876436  0.960228   \n2  DecisionTreeClassifier(class_weight=None, crit...   0.871995  0.960228   \n3  BaggingClassifier(base_estimator=None, bootstr...   0.886475  0.958587   \n4  LogisticRegression(C=1.0, class_weight=None, d...   0.643599  0.655951   \n5  KNeighborsClassifier(algorithm='auto', leaf_si...   0.769766  0.876629   \n\n       test  \n0  0.922676  \n1  0.898060  \n2  0.897480  \n3  0.901245  \n4  0.649290  \n5  0.809731  ", 
                        "text/html": "<div>\n<style scoped>\n    .dataframe tbody tr th:only-of-type {\n        vertical-align: middle;\n    }\n\n    .dataframe tbody tr th {\n        vertical-align: top;\n    }\n\n    .dataframe thead th {\n        text-align: right;\n    }\n</style>\n<table border=\"1\" class=\"dataframe\">\n  <thead>\n    <tr style=\"text-align: right;\">\n      <th></th>\n      <th>model</th>\n      <th>cross-val</th>\n      <th>train</th>\n      <th>test</th>\n    </tr>\n  </thead>\n  <tbody>\n    <tr>\n      <th>0</th>\n      <td>RandomForestClassifier(bootstrap=True, class_w...</td>\n      <td>0.905685</td>\n      <td>0.959166</td>\n      <td>0.922676</td>\n    </tr>\n    <tr>\n      <th>1</th>\n      <td>ExtraTreeClassifier(class_weight=None, criteri...</td>\n      <td>0.876436</td>\n      <td>0.960228</td>\n      <td>0.898060</td>\n    </tr>\n    <tr>\n      <th>2</th>\n      <td>DecisionTreeClassifier(class_weight=None, crit...</td>\n      <td>0.871995</td>\n      <td>0.960228</td>\n      <td>0.897480</td>\n    </tr>\n    <tr>\n      <th>3</th>\n      <td>BaggingClassifier(base_estimator=None, bootstr...</td>\n      <td>0.886475</td>\n      <td>0.958587</td>\n      <td>0.901245</td>\n    </tr>\n    <tr>\n      <th>4</th>\n      <td>LogisticRegression(C=1.0, class_weight=None, d...</td>\n      <td>0.643599</td>\n      <td>0.655951</td>\n      <td>0.649290</td>\n    </tr>\n    <tr>\n      <th>5</th>\n      <td>KNeighborsClassifier(algorithm='auto', leaf_si...</td>\n      <td>0.769766</td>\n      <td>0.876629</td>\n      <td>0.809731</td>\n    </tr>\n  </tbody>\n</table>\n</div>"
                    }, 
                    "metadata": {}
                }
            ], 
            "execution_count": 256
        }, 
        {
            "source": "def pca_scores(models):\n    X = df_over.drop(columns=['score'])\n    y = df_over['score']\n    \n    poly = PolynomialFeatures(include_bias=False)\n    X_poly = poly.fit_transform(X)\n    \n    poly_col_names = poly.get_feature_names(X.columns)\n    X = pd.DataFrame(X_poly, columns=poly_col_names)\n    \n    X_train, X_test, y_train, y_test = train_test_split(X, y, random_state = 42, stratify = y)\n    \n    model = PCA()\n    X_train_sc = model.fit_transform(X_train)\n    X_test_sc = model.transform(X_test)\n    \n    data = pd.DataFrame(columns=['model', 'cross-val', 'train', 'test'])\n\n    for i in models:\n        i.fit(X_train_sc, y_train)\n        data = data.append({'model': str(i),\n                        'cross-val': cross_val_score(i, X_train_sc, y_train).mean(),\n                        'train': i.score(X_train_sc, y_train),\n                        'test': i.score(X_test_sc, y_test)}, ignore_index=True)\n    return data", 
            "cell_type": "code", 
            "metadata": {}, 
            "outputs": [], 
            "execution_count": 257
        }, 
        {
            "source": "b = pca_scores([random_forest, extra_tree, decision_tree, bagged_tree, logreg, knn])", 
            "cell_type": "code", 
            "metadata": {}, 
            "outputs": [
                {
                    "ename": "KeyboardInterrupt", 
                    "evalue": "", 
                    "traceback": [
                        "\u001b[0;31m---------------------------------------------------------------------------\u001b[0m", 
                        "\u001b[0;31mKeyboardInterrupt\u001b[0m                         Traceback (most recent call last)", 
                        "\u001b[0;32m<ipython-input-258-347408d27edf>\u001b[0m in \u001b[0;36m<module>\u001b[0;34m\u001b[0m\n\u001b[0;32m----> 1\u001b[0;31m \u001b[0mb\u001b[0m \u001b[0;34m=\u001b[0m \u001b[0mpca_scores\u001b[0m\u001b[0;34m(\u001b[0m\u001b[0;34m[\u001b[0m\u001b[0mrandom_forest\u001b[0m\u001b[0;34m,\u001b[0m \u001b[0mextra_tree\u001b[0m\u001b[0;34m,\u001b[0m \u001b[0mdecision_tree\u001b[0m\u001b[0;34m,\u001b[0m \u001b[0mbagged_tree\u001b[0m\u001b[0;34m,\u001b[0m \u001b[0mlogreg\u001b[0m\u001b[0;34m,\u001b[0m \u001b[0mknn\u001b[0m\u001b[0;34m]\u001b[0m\u001b[0;34m)\u001b[0m\u001b[0;34m\u001b[0m\u001b[0;34m\u001b[0m\u001b[0m\n\u001b[0m", 
                        "\u001b[0;32m<ipython-input-257-8747fe3f95e7>\u001b[0m in \u001b[0;36mpca_scores\u001b[0;34m(models)\u001b[0m\n\u001b[1;32m     12\u001b[0m \u001b[0;34m\u001b[0m\u001b[0m\n\u001b[1;32m     13\u001b[0m     \u001b[0mmodel\u001b[0m \u001b[0;34m=\u001b[0m \u001b[0mPCA\u001b[0m\u001b[0;34m(\u001b[0m\u001b[0;34m)\u001b[0m\u001b[0;34m\u001b[0m\u001b[0;34m\u001b[0m\u001b[0m\n\u001b[0;32m---> 14\u001b[0;31m     \u001b[0mX_train_sc\u001b[0m \u001b[0;34m=\u001b[0m \u001b[0mmodel\u001b[0m\u001b[0;34m.\u001b[0m\u001b[0mfit_transform\u001b[0m\u001b[0;34m(\u001b[0m\u001b[0mX_train\u001b[0m\u001b[0;34m)\u001b[0m\u001b[0;34m\u001b[0m\u001b[0;34m\u001b[0m\u001b[0m\n\u001b[0m\u001b[1;32m     15\u001b[0m     \u001b[0mX_test_sc\u001b[0m \u001b[0;34m=\u001b[0m \u001b[0mmodel\u001b[0m\u001b[0;34m.\u001b[0m\u001b[0mtransform\u001b[0m\u001b[0;34m(\u001b[0m\u001b[0mX_test\u001b[0m\u001b[0;34m)\u001b[0m\u001b[0;34m\u001b[0m\u001b[0;34m\u001b[0m\u001b[0m\n\u001b[1;32m     16\u001b[0m \u001b[0;34m\u001b[0m\u001b[0m\n", 
                        "\u001b[0;32m/anaconda3/lib/python3.6/site-packages/sklearn/decomposition/pca.py\u001b[0m in \u001b[0;36mfit_transform\u001b[0;34m(self, X, y)\u001b[0m\n\u001b[1;32m    357\u001b[0m \u001b[0;34m\u001b[0m\u001b[0m\n\u001b[1;32m    358\u001b[0m         \"\"\"\n\u001b[0;32m--> 359\u001b[0;31m         \u001b[0mU\u001b[0m\u001b[0;34m,\u001b[0m \u001b[0mS\u001b[0m\u001b[0;34m,\u001b[0m \u001b[0mV\u001b[0m \u001b[0;34m=\u001b[0m \u001b[0mself\u001b[0m\u001b[0;34m.\u001b[0m\u001b[0m_fit\u001b[0m\u001b[0;34m(\u001b[0m\u001b[0mX\u001b[0m\u001b[0;34m)\u001b[0m\u001b[0;34m\u001b[0m\u001b[0;34m\u001b[0m\u001b[0m\n\u001b[0m\u001b[1;32m    360\u001b[0m         \u001b[0mU\u001b[0m \u001b[0;34m=\u001b[0m \u001b[0mU\u001b[0m\u001b[0;34m[\u001b[0m\u001b[0;34m:\u001b[0m\u001b[0;34m,\u001b[0m \u001b[0;34m:\u001b[0m\u001b[0mself\u001b[0m\u001b[0;34m.\u001b[0m\u001b[0mn_components_\u001b[0m\u001b[0;34m]\u001b[0m\u001b[0;34m\u001b[0m\u001b[0;34m\u001b[0m\u001b[0m\n\u001b[1;32m    361\u001b[0m \u001b[0;34m\u001b[0m\u001b[0m\n", 
                        "\u001b[0;32m/anaconda3/lib/python3.6/site-packages/sklearn/decomposition/pca.py\u001b[0m in \u001b[0;36m_fit\u001b[0;34m(self, X)\u001b[0m\n\u001b[1;32m    404\u001b[0m         \u001b[0;31m# Call different fits for either full or truncated SVD\u001b[0m\u001b[0;34m\u001b[0m\u001b[0;34m\u001b[0m\u001b[0;34m\u001b[0m\u001b[0m\n\u001b[1;32m    405\u001b[0m         \u001b[0;32mif\u001b[0m \u001b[0mself\u001b[0m\u001b[0;34m.\u001b[0m\u001b[0m_fit_svd_solver\u001b[0m \u001b[0;34m==\u001b[0m \u001b[0;34m'full'\u001b[0m\u001b[0;34m:\u001b[0m\u001b[0;34m\u001b[0m\u001b[0;34m\u001b[0m\u001b[0m\n\u001b[0;32m--> 406\u001b[0;31m             \u001b[0;32mreturn\u001b[0m \u001b[0mself\u001b[0m\u001b[0;34m.\u001b[0m\u001b[0m_fit_full\u001b[0m\u001b[0;34m(\u001b[0m\u001b[0mX\u001b[0m\u001b[0;34m,\u001b[0m \u001b[0mn_components\u001b[0m\u001b[0;34m)\u001b[0m\u001b[0;34m\u001b[0m\u001b[0;34m\u001b[0m\u001b[0m\n\u001b[0m\u001b[1;32m    407\u001b[0m         \u001b[0;32melif\u001b[0m \u001b[0mself\u001b[0m\u001b[0;34m.\u001b[0m\u001b[0m_fit_svd_solver\u001b[0m \u001b[0;32min\u001b[0m \u001b[0;34m[\u001b[0m\u001b[0;34m'arpack'\u001b[0m\u001b[0;34m,\u001b[0m \u001b[0;34m'randomized'\u001b[0m\u001b[0;34m]\u001b[0m\u001b[0;34m:\u001b[0m\u001b[0;34m\u001b[0m\u001b[0;34m\u001b[0m\u001b[0m\n\u001b[1;32m    408\u001b[0m             \u001b[0;32mreturn\u001b[0m \u001b[0mself\u001b[0m\u001b[0;34m.\u001b[0m\u001b[0m_fit_truncated\u001b[0m\u001b[0;34m(\u001b[0m\u001b[0mX\u001b[0m\u001b[0;34m,\u001b[0m \u001b[0mn_components\u001b[0m\u001b[0;34m,\u001b[0m \u001b[0mself\u001b[0m\u001b[0;34m.\u001b[0m\u001b[0m_fit_svd_solver\u001b[0m\u001b[0;34m)\u001b[0m\u001b[0;34m\u001b[0m\u001b[0;34m\u001b[0m\u001b[0m\n", 
                        "\u001b[0;32m/anaconda3/lib/python3.6/site-packages/sklearn/decomposition/pca.py\u001b[0m in \u001b[0;36m_fit_full\u001b[0;34m(self, X, n_components)\u001b[0m\n\u001b[1;32m    435\u001b[0m         \u001b[0mX\u001b[0m \u001b[0;34m-=\u001b[0m \u001b[0mself\u001b[0m\u001b[0;34m.\u001b[0m\u001b[0mmean_\u001b[0m\u001b[0;34m\u001b[0m\u001b[0;34m\u001b[0m\u001b[0m\n\u001b[1;32m    436\u001b[0m \u001b[0;34m\u001b[0m\u001b[0m\n\u001b[0;32m--> 437\u001b[0;31m         \u001b[0mU\u001b[0m\u001b[0;34m,\u001b[0m \u001b[0mS\u001b[0m\u001b[0;34m,\u001b[0m \u001b[0mV\u001b[0m \u001b[0;34m=\u001b[0m \u001b[0mlinalg\u001b[0m\u001b[0;34m.\u001b[0m\u001b[0msvd\u001b[0m\u001b[0;34m(\u001b[0m\u001b[0mX\u001b[0m\u001b[0;34m,\u001b[0m \u001b[0mfull_matrices\u001b[0m\u001b[0;34m=\u001b[0m\u001b[0;32mFalse\u001b[0m\u001b[0;34m)\u001b[0m\u001b[0;34m\u001b[0m\u001b[0;34m\u001b[0m\u001b[0m\n\u001b[0m\u001b[1;32m    438\u001b[0m         \u001b[0;31m# flip eigenvectors' sign to enforce deterministic output\u001b[0m\u001b[0;34m\u001b[0m\u001b[0;34m\u001b[0m\u001b[0;34m\u001b[0m\u001b[0m\n\u001b[1;32m    439\u001b[0m         \u001b[0mU\u001b[0m\u001b[0;34m,\u001b[0m \u001b[0mV\u001b[0m \u001b[0;34m=\u001b[0m \u001b[0msvd_flip\u001b[0m\u001b[0;34m(\u001b[0m\u001b[0mU\u001b[0m\u001b[0;34m,\u001b[0m \u001b[0mV\u001b[0m\u001b[0;34m)\u001b[0m\u001b[0;34m\u001b[0m\u001b[0;34m\u001b[0m\u001b[0m\n", 
                        "\u001b[0;32m/anaconda3/lib/python3.6/site-packages/scipy/linalg/decomp_svd.py\u001b[0m in \u001b[0;36msvd\u001b[0;34m(a, full_matrices, compute_uv, overwrite_a, check_finite, lapack_driver)\u001b[0m\n\u001b[1;32m    127\u001b[0m     \u001b[0;31m# perform decomposition\u001b[0m\u001b[0;34m\u001b[0m\u001b[0;34m\u001b[0m\u001b[0;34m\u001b[0m\u001b[0m\n\u001b[1;32m    128\u001b[0m     u, s, v, info = gesXd(a1, compute_uv=compute_uv, lwork=lwork,\n\u001b[0;32m--> 129\u001b[0;31m                           full_matrices=full_matrices, overwrite_a=overwrite_a)\n\u001b[0m\u001b[1;32m    130\u001b[0m \u001b[0;34m\u001b[0m\u001b[0m\n\u001b[1;32m    131\u001b[0m     \u001b[0;32mif\u001b[0m \u001b[0minfo\u001b[0m \u001b[0;34m>\u001b[0m \u001b[0;36m0\u001b[0m\u001b[0;34m:\u001b[0m\u001b[0;34m\u001b[0m\u001b[0;34m\u001b[0m\u001b[0m\n", 
                        "\u001b[0;31mKeyboardInterrupt\u001b[0m: "
                    ], 
                    "output_type": "error"
                }
            ], 
            "execution_count": 258
        }, 
        {
            "source": "pd.merge(a, b, on='model')", 
            "cell_type": "code", 
            "metadata": {}, 
            "outputs": [], 
            "execution_count": null
        }, 
        {
            "source": "X = df_over.drop(columns=['score'])\ny = df_over['score']\n\nX_train, X_test, y_train, y_test = train_test_split(X, y, random_state = 42, stratify = y)\n\nss = StandardScaler()\nX_train_sc = ss.fit_transform(X_train)\nX_test_sc = ss.transform(X_test)\n\nrandom_forest = RandomForestClassifier()\nrandom_forest.fit(X_train, y_train)\npreds = random_forest.predict(df.drop(columns='score'))", 
            "cell_type": "code", 
            "metadata": {}, 
            "outputs": [], 
            "execution_count": 259
        }, 
        {
            "source": "plt.hist(df[df['score']==0]['rating'])\nplt.hist(df[df['score']==1]['rating'])", 
            "cell_type": "code", 
            "metadata": {}, 
            "outputs": [
                {
                    "execution_count": 260, 
                    "output_type": "execute_result", 
                    "data": {
                        "text/plain": "(array([  8.,  13.,  48.,  73.,   0., 154., 217., 224.,  62.,   2.]),\n array([1. , 1.4, 1.8, 2.2, 2.6, 3. , 3.4, 3.8, 4.2, 4.6, 5. ]),\n <a list of 10 Patch objects>)"
                    }, 
                    "metadata": {}
                }, 
                {
                    "output_type": "display_data", 
                    "data": {
                        "image/png": "[encoded data removed]", 
                        "text/plain": "<Figure size 432x288 with 1 Axes>"
                    }, 
                    "metadata": {
                        "needs_background": "light"
                    }
                }
            ], 
            "execution_count": 260
        }, 
        {
            "source": "", 
            "cell_type": "code", 
            "metadata": {}, 
            "outputs": [], 
            "execution_count": null
        }, 
        {
            "source": "### Logreg", 
            "cell_type": "markdown", 
            "metadata": {}
        }, 
        {
            "source": "X = df_over.drop(columns=['score'])\ny = df_over['score']\n\nX_train, X_test, y_train, y_test = train_test_split(X, y, random_state = 42, stratify = y)\n\nss = StandardScaler()\nX_train_sc = ss.fit_transform(X_train)\nX_test_sc = ss.transform(X_test)\n\nlogreg = LogisticRegression()\nlogreg.fit(X_train, y_train)\npreds = logreg.predict(df_over.drop(columns='score'))", 
            "cell_type": "code", 
            "metadata": {}, 
            "outputs": [], 
            "execution_count": 296
        }, 
        {
            "source": "dff = pd.DataFrame(logreg.coef_,\n            columns=X_train.columns, index=['import']).T.sort_values('import', ascending=False)\n\n#dff = dff.apply(lambda row: np.exp(row), axis=1)", 
            "cell_type": "code", 
            "metadata": {}, 
            "outputs": [], 
            "execution_count": 310
        }, 
        {
            "source": "dff.loc['rating']['import']", 
            "cell_type": "code", 
            "metadata": {}, 
            "outputs": [
                {
                    "execution_count": 311, 
                    "output_type": "execute_result", 
                    "data": {
                        "text/plain": "-0.27126168327364936"
                    }, 
                    "metadata": {}
                }
            ], 
            "execution_count": 311
        }, 
        {
            "source": "dff.loc['2']", 
            "cell_type": "code", 
            "metadata": {}, 
            "outputs": [
                {
                    "execution_count": 312, 
                    "output_type": "execute_result", 
                    "data": {
                        "text/plain": "import    0.069316\nName: 2, dtype: float64"
                    }, 
                    "metadata": {}
                }
            ], 
            "execution_count": 312
        }, 
        {
            "source": "feature_imp = ['rating', 'price', 'summer', '1', '2','4', '0', '3', 'Cycle Inspection / Re-inspection', 'pizza', 'mexican', 'coffee', 'chinese', 'hotdogs']\nfor i in feature_imp:\n    print(i, dff.loc[i]['import'])", 
            "cell_type": "code", 
            "metadata": {}, 
            "outputs": [
                {
                    "output_type": "stream", 
                    "name": "stdout", 
                    "text": "rating -0.27126168327364936\nprice 0.019658555300313994\nsummer 0.4226686378394165\n1 0.0036461323233447276\n2 0.06931617042244002\n4 -0.0781159881339432\n0 0.21615283287814638\n3 -0.06859964215371553\nCycle Inspection / Re-inspection -0.25522535192059836\npizza 0.17744170316231614\nmexican 0.19241415732423994\ncoffee -0.23140712856522241\nchinese 0.3017971479393392\nhotdogs -0.2570395288505845\n"
                }
            ], 
            "execution_count": 323
        }, 
        {
            "source": "", 
            "cell_type": "code", 
            "metadata": {}, 
            "outputs": [], 
            "execution_count": null
        }, 
        {
            "source": "### Random forest", 
            "cell_type": "markdown", 
            "metadata": {}
        }, 
        {
            "source": "pd.DataFrame(random_forest.feature_importances_,\n             columns=['feat'],\n            index=X.columns).sort_values('feat', ascending=False)\n", 
            "cell_type": "code", 
            "metadata": {}, 
            "outputs": [
                {
                    "execution_count": 264, 
                    "output_type": "execute_result", 
                    "data": {
                        "text/plain": "                                                        feat\nrating                                              0.177868\nprice                                               0.063179\nsummer                                              0.037286\n2                                                   0.026463\n0                                                   0.026441\n3                                                   0.026191\nCycle Inspection / Re-inspection                    0.022963\npizza                                               0.022579\n2017                                                0.021657\n1                                                   0.020127\n2018                                                0.020081\nmexican                                             0.018864\ncoffee                                              0.017614\nchinese                                             0.017545\n2016                                                0.017111\nPre-permit (Operational) / Initial Inspection       0.016399\nhotdogs                                             0.016275\n4                                                   0.015161\ncaribbean                                           0.014386\nbakeries                                            0.014081\n2015                                                0.013312\njapanese                                            0.013243\nburgers                                             0.013111\nitalian                                             0.012983\nindpak                                              0.011207\nsandwiches                                          0.010832\nlatin                                               0.010670\nCycle Inspection / Initial Inspection               0.010066\nnewamerican                                         0.009672\nbars                                                0.009376\n...                                                      ...\nshanghainese                                        0.000652\ntapas                                               0.000558\ngerman                                              0.000547\nfilipino                                            0.000538\npolish                                              0.000535\nbrazilian                                           0.000514\nirish                                               0.000484\nwhiskeybars                                         0.000435\nfarmersmarket                                       0.000416\ntikibars                                            0.000401\nsoup                                                0.000360\ntea                                                 0.000354\ncigarbars                                           0.000287\nacaibowls                                           0.000258\nvegan                                               0.000236\nmoroccan                                            0.000219\nethiopian                                           0.000219\nhkcafe                                              0.000199\ngrocery                                             0.000189\nvenues                                              0.000185\nturkish                                             0.000185\ntapasmallplates                                     0.000178\nvenezuelan                                          0.000169\ncupcakes                                            0.000163\ntaiwanese                                           0.000149\nPre-permit (Operational) / Second Compliance In...  0.000139\ncreperies                                           0.000121\ncajun                                               0.000119\nPre-permit (Non-operational) / Compliance Inspe...  0.000092\nfishnchips                                          0.000036\n\n[140 rows x 1 columns]", 
                        "text/html": "<div>\n<style scoped>\n    .dataframe tbody tr th:only-of-type {\n        vertical-align: middle;\n    }\n\n    .dataframe tbody tr th {\n        vertical-align: top;\n    }\n\n    .dataframe thead th {\n        text-align: right;\n    }\n</style>\n<table border=\"1\" class=\"dataframe\">\n  <thead>\n    <tr style=\"text-align: right;\">\n      <th></th>\n      <th>feat</th>\n    </tr>\n  </thead>\n  <tbody>\n    <tr>\n      <th>rating</th>\n      <td>0.177868</td>\n    </tr>\n    <tr>\n      <th>price</th>\n      <td>0.063179</td>\n    </tr>\n    <tr>\n      <th>summer</th>\n      <td>0.037286</td>\n    </tr>\n    <tr>\n      <th>2</th>\n      <td>0.026463</td>\n    </tr>\n    <tr>\n      <th>0</th>\n      <td>0.026441</td>\n    </tr>\n    <tr>\n      <th>3</th>\n      <td>0.026191</td>\n    </tr>\n    <tr>\n      <th>Cycle Inspection / Re-inspection</th>\n      <td>0.022963</td>\n    </tr>\n    <tr>\n      <th>pizza</th>\n      <td>0.022579</td>\n    </tr>\n    <tr>\n      <th>2017</th>\n      <td>0.021657</td>\n    </tr>\n    <tr>\n      <th>1</th>\n      <td>0.020127</td>\n    </tr>\n    <tr>\n      <th>2018</th>\n      <td>0.020081</td>\n    </tr>\n    <tr>\n      <th>mexican</th>\n      <td>0.018864</td>\n    </tr>\n    <tr>\n      <th>coffee</th>\n      <td>0.017614</td>\n    </tr>\n    <tr>\n      <th>chinese</th>\n      <td>0.017545</td>\n    </tr>\n    <tr>\n      <th>2016</th>\n      <td>0.017111</td>\n    </tr>\n    <tr>\n      <th>Pre-permit (Operational) / Initial Inspection</th>\n      <td>0.016399</td>\n    </tr>\n    <tr>\n      <th>hotdogs</th>\n      <td>0.016275</td>\n    </tr>\n    <tr>\n      <th>4</th>\n      <td>0.015161</td>\n    </tr>\n    <tr>\n      <th>caribbean</th>\n      <td>0.014386</td>\n    </tr>\n    <tr>\n      <th>bakeries</th>\n      <td>0.014081</td>\n    </tr>\n    <tr>\n      <th>2015</th>\n      <td>0.013312</td>\n    </tr>\n    <tr>\n      <th>japanese</th>\n      <td>0.013243</td>\n    </tr>\n    <tr>\n      <th>burgers</th>\n      <td>0.013111</td>\n    </tr>\n    <tr>\n      <th>italian</th>\n      <td>0.012983</td>\n    </tr>\n    <tr>\n      <th>indpak</th>\n      <td>0.011207</td>\n    </tr>\n    <tr>\n      <th>sandwiches</th>\n      <td>0.010832</td>\n    </tr>\n    <tr>\n      <th>latin</th>\n      <td>0.010670</td>\n    </tr>\n    <tr>\n      <th>Cycle Inspection / Initial Inspection</th>\n      <td>0.010066</td>\n    </tr>\n    <tr>\n      <th>newamerican</th>\n      <td>0.009672</td>\n    </tr>\n    <tr>\n      <th>bars</th>\n      <td>0.009376</td>\n    </tr>\n    <tr>\n      <th>...</th>\n      <td>...</td>\n    </tr>\n    <tr>\n      <th>shanghainese</th>\n      <td>0.000652</td>\n    </tr>\n    <tr>\n      <th>tapas</th>\n      <td>0.000558</td>\n    </tr>\n    <tr>\n      <th>german</th>\n      <td>0.000547</td>\n    </tr>\n    <tr>\n      <th>filipino</th>\n      <td>0.000538</td>\n    </tr>\n    <tr>\n      <th>polish</th>\n      <td>0.000535</td>\n    </tr>\n    <tr>\n      <th>brazilian</th>\n      <td>0.000514</td>\n    </tr>\n    <tr>\n      <th>irish</th>\n      <td>0.000484</td>\n    </tr>\n    <tr>\n      <th>whiskeybars</th>\n      <td>0.000435</td>\n    </tr>\n    <tr>\n      <th>farmersmarket</th>\n      <td>0.000416</td>\n    </tr>\n    <tr>\n      <th>tikibars</th>\n      <td>0.000401</td>\n    </tr>\n    <tr>\n      <th>soup</th>\n      <td>0.000360</td>\n    </tr>\n    <tr>\n      <th>tea</th>\n      <td>0.000354</td>\n    </tr>\n    <tr>\n      <th>cigarbars</th>\n      <td>0.000287</td>\n    </tr>\n    <tr>\n      <th>acaibowls</th>\n      <td>0.000258</td>\n    </tr>\n    <tr>\n      <th>vegan</th>\n      <td>0.000236</td>\n    </tr>\n    <tr>\n      <th>moroccan</th>\n      <td>0.000219</td>\n    </tr>\n    <tr>\n      <th>ethiopian</th>\n      <td>0.000219</td>\n    </tr>\n    <tr>\n      <th>hkcafe</th>\n      <td>0.000199</td>\n    </tr>\n    <tr>\n      <th>grocery</th>\n      <td>0.000189</td>\n    </tr>\n    <tr>\n      <th>venues</th>\n      <td>0.000185</td>\n    </tr>\n    <tr>\n      <th>turkish</th>\n      <td>0.000185</td>\n    </tr>\n    <tr>\n      <th>tapasmallplates</th>\n      <td>0.000178</td>\n    </tr>\n    <tr>\n      <th>venezuelan</th>\n      <td>0.000169</td>\n    </tr>\n    <tr>\n      <th>cupcakes</th>\n      <td>0.000163</td>\n    </tr>\n    <tr>\n      <th>taiwanese</th>\n      <td>0.000149</td>\n    </tr>\n    <tr>\n      <th>Pre-permit (Operational) / Second Compliance Inspection</th>\n      <td>0.000139</td>\n    </tr>\n    <tr>\n      <th>creperies</th>\n      <td>0.000121</td>\n    </tr>\n    <tr>\n      <th>cajun</th>\n      <td>0.000119</td>\n    </tr>\n    <tr>\n      <th>Pre-permit (Non-operational) / Compliance Inspection</th>\n      <td>0.000092</td>\n    </tr>\n    <tr>\n      <th>fishnchips</th>\n      <td>0.000036</td>\n    </tr>\n  </tbody>\n</table>\n<p>140 rows \ufffd 1 columns</p>\n</div>"
                    }, 
                    "metadata": {}
                }
            ], 
            "execution_count": 264
        }, 
        {
            "source": "preds = random_forest.predict(df_over.drop(columns='score'))\n\npd.DataFrame(confusion_matrix(df_over['score'], preds), \n             columns=['Pred Neg', 'Pred Pos'], \n             index=['Act Neg', 'Act Pos'])", 
            "cell_type": "code", 
            "metadata": {}, 
            "outputs": [
                {
                    "execution_count": 265, 
                    "output_type": "execute_result", 
                    "data": {
                        "text/plain": "         Pred Neg  Pred Pos\nAct Neg      6266       640\nAct Pos        42      6864", 
                        "text/html": "<div>\n<style scoped>\n    .dataframe tbody tr th:only-of-type {\n        vertical-align: middle;\n    }\n\n    .dataframe tbody tr th {\n        vertical-align: top;\n    }\n\n    .dataframe thead th {\n        text-align: right;\n    }\n</style>\n<table border=\"1\" class=\"dataframe\">\n  <thead>\n    <tr style=\"text-align: right;\">\n      <th></th>\n      <th>Pred Neg</th>\n      <th>Pred Pos</th>\n    </tr>\n  </thead>\n  <tbody>\n    <tr>\n      <th>Act Neg</th>\n      <td>6266</td>\n      <td>640</td>\n    </tr>\n    <tr>\n      <th>Act Pos</th>\n      <td>42</td>\n      <td>6864</td>\n    </tr>\n  </tbody>\n</table>\n</div>"
                    }, 
                    "metadata": {}
                }
            ], 
            "execution_count": 265
        }, 
        {
            "source": "def conf_matrix(model):\n    X = df_over.drop(columns=['score'])\n    y = df_over['score']\n\n    X_train, X_test, y_train, y_test = train_test_split(X, y, random_state = 42, stratify = y)\n\n    ss = StandardScaler()\n    X_train_sc = ss.fit_transform(X_train)\n    X_test_sc = ss.transform(X_test)\n    \n    model.fit(X_train_sc, y_train)\n\n    preds = model.predict(df.drop(columns='score'))\n    \n    \n    return pd.DataFrame(confusion_matrix(df['score'], preds), \n                 columns=['Pred Neg', 'Pred Pos'], \n                 index=['Act Neg', 'Act Pos'])", 
            "cell_type": "code", 
            "metadata": {}, 
            "outputs": [], 
            "execution_count": 316
        }, 
        {
            "source": "", 
            "cell_type": "code", 
            "metadata": {}, 
            "outputs": [], 
            "execution_count": null
        }, 
        {
            "source": "print(\"confusion matrix: random forest\")\nconf_matrix(random_forest)\n", 
            "cell_type": "code", 
            "metadata": {}, 
            "outputs": [
                {
                    "output_type": "stream", 
                    "name": "stdout", 
                    "text": "confusion matrix: random forest\n"
                }, 
                {
                    "execution_count": 317, 
                    "output_type": "execute_result", 
                    "data": {
                        "text/plain": "         Pred Neg  Pred Pos\nAct Neg      6829        77\nAct Pos       771        30", 
                        "text/html": "<div>\n<style scoped>\n    .dataframe tbody tr th:only-of-type {\n        vertical-align: middle;\n    }\n\n    .dataframe tbody tr th {\n        vertical-align: top;\n    }\n\n    .dataframe thead th {\n        text-align: right;\n    }\n</style>\n<table border=\"1\" class=\"dataframe\">\n  <thead>\n    <tr style=\"text-align: right;\">\n      <th></th>\n      <th>Pred Neg</th>\n      <th>Pred Pos</th>\n    </tr>\n  </thead>\n  <tbody>\n    <tr>\n      <th>Act Neg</th>\n      <td>6829</td>\n      <td>77</td>\n    </tr>\n    <tr>\n      <th>Act Pos</th>\n      <td>771</td>\n      <td>30</td>\n    </tr>\n  </tbody>\n</table>\n</div>"
                    }, 
                    "metadata": {}
                }
            ], 
            "execution_count": 317
        }, 
        {
            "source": "conf_matrix(bagged_tree)", 
            "cell_type": "code", 
            "metadata": {}, 
            "outputs": [
                {
                    "execution_count": 318, 
                    "output_type": "execute_result", 
                    "data": {
                        "text/plain": "         Pred Neg  Pred Pos\nAct Neg      6805       101\nAct Pos       763        38", 
                        "text/html": "<div>\n<style scoped>\n    .dataframe tbody tr th:only-of-type {\n        vertical-align: middle;\n    }\n\n    .dataframe tbody tr th {\n        vertical-align: top;\n    }\n\n    .dataframe thead th {\n        text-align: right;\n    }\n</style>\n<table border=\"1\" class=\"dataframe\">\n  <thead>\n    <tr style=\"text-align: right;\">\n      <th></th>\n      <th>Pred Neg</th>\n      <th>Pred Pos</th>\n    </tr>\n  </thead>\n  <tbody>\n    <tr>\n      <th>Act Neg</th>\n      <td>6805</td>\n      <td>101</td>\n    </tr>\n    <tr>\n      <th>Act Pos</th>\n      <td>763</td>\n      <td>38</td>\n    </tr>\n  </tbody>\n</table>\n</div>"
                    }, 
                    "metadata": {}
                }
            ], 
            "execution_count": 318
        }, 
        {
            "source": "conf_matrix(decision_tree)", 
            "cell_type": "code", 
            "metadata": {}, 
            "outputs": [
                {
                    "execution_count": 319, 
                    "output_type": "execute_result", 
                    "data": {
                        "text/plain": "         Pred Neg  Pred Pos\nAct Neg      6794       112\nAct Pos       760        41", 
                        "text/html": "<div>\n<style scoped>\n    .dataframe tbody tr th:only-of-type {\n        vertical-align: middle;\n    }\n\n    .dataframe tbody tr th {\n        vertical-align: top;\n    }\n\n    .dataframe thead th {\n        text-align: right;\n    }\n</style>\n<table border=\"1\" class=\"dataframe\">\n  <thead>\n    <tr style=\"text-align: right;\">\n      <th></th>\n      <th>Pred Neg</th>\n      <th>Pred Pos</th>\n    </tr>\n  </thead>\n  <tbody>\n    <tr>\n      <th>Act Neg</th>\n      <td>6794</td>\n      <td>112</td>\n    </tr>\n    <tr>\n      <th>Act Pos</th>\n      <td>760</td>\n      <td>41</td>\n    </tr>\n  </tbody>\n</table>\n</div>"
                    }, 
                    "metadata": {}
                }
            ], 
            "execution_count": 319
        }, 
        {
            "source": "conf_matrix(extra_tree)", 
            "cell_type": "code", 
            "metadata": {}, 
            "outputs": [
                {
                    "execution_count": 320, 
                    "output_type": "execute_result", 
                    "data": {
                        "text/plain": "         Pred Neg  Pred Pos\nAct Neg      6267       639\nAct Pos       707        94", 
                        "text/html": "<div>\n<style scoped>\n    .dataframe tbody tr th:only-of-type {\n        vertical-align: middle;\n    }\n\n    .dataframe tbody tr th {\n        vertical-align: top;\n    }\n\n    .dataframe thead th {\n        text-align: right;\n    }\n</style>\n<table border=\"1\" class=\"dataframe\">\n  <thead>\n    <tr style=\"text-align: right;\">\n      <th></th>\n      <th>Pred Neg</th>\n      <th>Pred Pos</th>\n    </tr>\n  </thead>\n  <tbody>\n    <tr>\n      <th>Act Neg</th>\n      <td>6267</td>\n      <td>639</td>\n    </tr>\n    <tr>\n      <th>Act Pos</th>\n      <td>707</td>\n      <td>94</td>\n    </tr>\n  </tbody>\n</table>\n</div>"
                    }, 
                    "metadata": {}
                }
            ], 
            "execution_count": 320
        }, 
        {
            "source": "", 
            "cell_type": "code", 
            "metadata": {}, 
            "outputs": [], 
            "execution_count": null
        }, 
        {
            "source": "", 
            "cell_type": "code", 
            "metadata": {}, 
            "outputs": [], 
            "execution_count": null
        }, 
        {
            "source": "", 
            "cell_type": "code", 
            "metadata": {}, 
            "outputs": [], 
            "execution_count": null
        }, 
        {
            "source": "df['score'].value_counts()", 
            "cell_type": "code", 
            "metadata": {}, 
            "outputs": [
                {
                    "execution_count": 156, 
                    "output_type": "execute_result", 
                    "data": {
                        "text/plain": "0    6881\n1     799\nName: score, dtype: int64"
                    }, 
                    "metadata": {}
                }
            ], 
            "execution_count": 156
        }, 
        {
            "source": "6881 / (6881 + 799)", 
            "cell_type": "code", 
            "metadata": {}, 
            "outputs": [
                {
                    "execution_count": 108, 
                    "output_type": "execute_result", 
                    "data": {
                        "text/plain": "0.8959635416666667"
                    }, 
                    "metadata": {}
                }
            ], 
            "execution_count": 108
        }, 
        {
            "source": "### XGBoost", 
            "cell_type": "markdown", 
            "metadata": {}
        }, 
        {
            "source": "X = df_over.drop(columns=['score'])\ny = df_over['score']\n\nX_train, X_test, y_train, y_test = train_test_split(X, y, random_state = 42, stratify = y)\n\nss = StandardScaler()\nX_train_sc = ss.fit_transform(X_train)\nX_test_sc = ss.transform(X_test)", 
            "cell_type": "code", 
            "metadata": {}, 
            "outputs": [], 
            "execution_count": 171
        }, 
        {
            "source": "xgb = XGBClassifier()\nxgb.fit(X_train_sc, y_train)\ny_pred = xgb.predict(X_test_sc)\n\naccuracy = accuracy_score(y_test, y_pred)\nprint(\"Accuracy: %.2f%%\" % (accuracy * 100.0))", 
            "cell_type": "code", 
            "metadata": {}, 
            "outputs": [
                {
                    "output_type": "stream", 
                    "name": "stdout", 
                    "text": "Accuracy: 67.60%\n"
                }
            ], 
            "execution_count": 173
        }, 
        {
            "source": "", 
            "cell_type": "code", 
            "metadata": {}, 
            "outputs": [], 
            "execution_count": null
        }, 
        {
            "source": "", 
            "cell_type": "code", 
            "metadata": {}, 
            "outputs": [], 
            "execution_count": null
        }, 
        {
            "source": "", 
            "cell_type": "code", 
            "metadata": {}, 
            "outputs": [], 
            "execution_count": null
        }, 
        {
            "source": "X = df_over.drop(columns=['score'])\ny = df_over['score']\n\nX_train, X_test, y_train, y_test = train_test_split(X, y, random_state = 42, stratify = y)\n\nss = StandardScaler()\nX_train_sc = ss.fit_transform(X_train)\nX_test_sc = ss.transform(X_test)\n\nscores_test = []\nscores_train = []\nn_estimators = []\n\nfor n_est in range(50):\n    ada = AdaBoostClassifier(n_estimators=n_est+1, random_state=42)\n    ada.fit(X_train_sc, y_train)\n    n_estimators.append(n_est+1)\n    scores_test.append(ada.score(X_test_sc, y_test))\n    scores_train.append(ada.score(X_train_sc, y_train))", 
            "cell_type": "code", 
            "metadata": {}, 
            "outputs": [], 
            "execution_count": 157
        }, 
        {
            "source": "plt.plot(n_estimators, scores_test, label='Test Scores')\nplt.plot(n_estimators, scores_train, label=\"Train Scores\")\nplt.xlabel(\"# Estimators\")\nplt.ylabel('Accuracy')\nplt.legend()", 
            "cell_type": "code", 
            "metadata": {}, 
            "outputs": [
                {
                    "execution_count": 158, 
                    "output_type": "execute_result", 
                    "data": {
                        "text/plain": "<matplotlib.legend.Legend at 0x142a78b38>"
                    }, 
                    "metadata": {}
                }, 
                {
                    "output_type": "display_data", 
                    "data": {
                        "image/png": "[encoded data removed]", 
                        "text/plain": "<Figure size 432x288 with 1 Axes>"
                    }, 
                    "metadata": {
                        "needs_background": "light"
                    }
                }
            ], 
            "execution_count": 158
        }, 
        {
            "source": "", 
            "cell_type": "code", 
            "metadata": {}, 
            "outputs": [], 
            "execution_count": null
        }, 
        {
            "source": "X = df_over.drop(columns=['score'])\ny = df_over['score']\n\nX_train, X_test, y_train, y_test = train_test_split(X, y, random_state = 42, stratify = y)\n\nmodel = StandardScaler()\nX_train_sc = model.fit_transform(X_train)\nX_test_sc = model.transform(X_test)\n\nscores_test = []\nscores_train = []\nn_estimators = []\n\nfor n_est in range(30):\n    grb = GradientBoostingClassifier(n_estimators=n_est+1, random_state=42)\n    grb.fit(X_train_sc, y_train)\n    n_estimators.append(n_est+1)\n    scores_test.append(ada.score(X_test_sc, y_test))\n    scores_train.append(ada.score(X_train_sc, y_train))", 
            "cell_type": "code", 
            "metadata": {}, 
            "outputs": [], 
            "execution_count": 18
        }, 
        {
            "source": "plt.plot(n_estimators, scores_test, label='Test Scores')\nplt.plot(n_estimators, scores_train, label=\"Train Scores\")\nplt.xlabel(\"# Estimators\")\nplt.ylabel('Accuracy')\nplt.legend()", 
            "cell_type": "code", 
            "metadata": {}, 
            "outputs": [
                {
                    "execution_count": 19, 
                    "output_type": "execute_result", 
                    "data": {
                        "text/plain": "<matplotlib.legend.Legend at 0x115edfc88>"
                    }, 
                    "metadata": {}
                }, 
                {
                    "output_type": "display_data", 
                    "data": {
                        "image/png": "[encoded data removed]", 
                        "text/plain": "<Figure size 432x288 with 1 Axes>"
                    }, 
                    "metadata": {
                        "needs_background": "light"
                    }
                }
            ], 
            "execution_count": 19
        }, 
        {
            "source": "", 
            "cell_type": "code", 
            "metadata": {}, 
            "outputs": [], 
            "execution_count": null
        }, 
        {
            "source": "", 
            "cell_type": "code", 
            "metadata": {}, 
            "outputs": [], 
            "execution_count": null
        }, 
        {
            "source": "", 
            "cell_type": "code", 
            "metadata": {}, 
            "outputs": [], 
            "execution_count": null
        }, 
        {
            "source": "X = df_over.drop(columns=['score'])\ny = df_over['score']\n\nX_train, X_test, y_train, y_test = train_test_split(X, y, random_state = 42, stratify = y)\n\nmodel = StandardScaler()\nX_train_sc = model.fit_transform(X_train)\nX_test_sc = model.transform(X_test)\n\nsvc = svm.SVC(C=100)\nsvc.fit(X_train_sc, y_train)\n\ny_pred = svc.predict(X_test_sc)\n\naccuracy_score(y_test, y_pred)", 
            "cell_type": "code", 
            "metadata": {}, 
            "outputs": [
                {
                    "execution_count": 159, 
                    "output_type": "execute_result", 
                    "data": {
                        "text/plain": "0.9197907585004359"
                    }, 
                    "metadata": {}
                }
            ], 
            "execution_count": 159
        }, 
        {
            "source": "", 
            "cell_type": "code", 
            "metadata": {}, 
            "outputs": [], 
            "execution_count": null
        }, 
        {
            "source": "", 
            "cell_type": "code", 
            "metadata": {}, 
            "outputs": [], 
            "execution_count": null
        }, 
        {
            "source": "X = df_over.drop(columns=['score'])\ny = to_categorical(df_over['score'])\n\nX_train, X_test, y_train, y_test = train_test_split(X, y, random_state = 42, stratify = y)\n\nmodel = StandardScaler()\nX_train_sc = model.fit_transform(X_train)\nX_test_sc = model.transform(X_test)", 
            "cell_type": "code", 
            "metadata": {}, 
            "outputs": [], 
            "execution_count": 166
        }, 
        {
            "source": "model = Sequential()\n\n# First hidden layer\nmodel.add(Dense(50, activation='relu', input_dim=X_train.shape[1]))\n\n# Second hidden layer\nmodel.add(Dense(100, activation='relu'))\n\n# Third hidden layer\nmodel.add(Dense(15, activation='relu'))\n\n# For multiclass classification,\n# 1 neuron\n# softmax activation function\nmodel.add(Dense(2, activation='sigmoid'))", 
            "cell_type": "code", 
            "metadata": {}, 
            "outputs": [], 
            "execution_count": 167
        }, 
        {
            "source": "model.compile(loss='binary_crossentropy', optimizer='adam', metrics=['accuracy'])", 
            "cell_type": "code", 
            "metadata": {}, 
            "outputs": [], 
            "execution_count": 168
        }, 
        {
            "source": "results = model.fit(X_train_sc, y_train,\n          epochs=30,\n          validation_data=(X_test_sc, y_test))", 
            "cell_type": "code", 
            "metadata": {}, 
            "outputs": [
                {
                    "output_type": "stream", 
                    "name": "stdout", 
                    "text": "Train on 10321 samples, validate on 3441 samples\nEpoch 1/30\n10321/10321 [==============================] - 2s 154us/step - loss: 0.6099 - acc: 0.6635 - val_loss: 0.5370 - val_acc: 0.7376\nEpoch 2/30\n10321/10321 [==============================] - 1s 83us/step - loss: 0.4672 - acc: 0.7802 - val_loss: 0.4467 - val_acc: 0.8009\nEpoch 3/30\n10321/10321 [==============================] - 1s 82us/step - loss: 0.3622 - acc: 0.8435 - val_loss: 0.3758 - val_acc: 0.8426\nEpoch 4/30\n10321/10321 [==============================] - 1s 83us/step - loss: 0.2868 - acc: 0.8870 - val_loss: 0.3090 - val_acc: 0.8910\nEpoch 5/30\n10321/10321 [==============================] - 1s 81us/step - loss: 0.2237 - acc: 0.9174 - val_loss: 0.2814 - val_acc: 0.9021\nEpoch 6/30\n10321/10321 [==============================] - 1s 85us/step - loss: 0.1815 - acc: 0.9352 - val_loss: 0.2476 - val_acc: 0.9179\nEpoch 7/30\n10321/10321 [==============================] - 1s 84us/step - loss: 0.1549 - acc: 0.9465 - val_loss: 0.2409 - val_acc: 0.9196\nEpoch 8/30\n10321/10321 [==============================] - 1s 84us/step - loss: 0.1372 - acc: 0.9514 - val_loss: 0.2364 - val_acc: 0.9231\nEpoch 9/30\n10321/10321 [==============================] - 1s 85us/step - loss: 0.1268 - acc: 0.9581 - val_loss: 0.2372 - val_acc: 0.9246\nEpoch 10/30\n10321/10321 [==============================] - 1s 83us/step - loss: 0.1198 - acc: 0.9609 - val_loss: 0.2356 - val_acc: 0.9321\nEpoch 11/30\n10321/10321 [==============================] - 1s 95us/step - loss: 0.1078 - acc: 0.9651 - val_loss: 0.2600 - val_acc: 0.9294\nEpoch 12/30\n10321/10321 [==============================] - 1s 84us/step - loss: 0.1034 - acc: 0.9670 - val_loss: 0.2268 - val_acc: 0.9394\nEpoch 13/30\n10321/10321 [==============================] - 1s 85us/step - loss: 0.0969 - acc: 0.9688 - val_loss: 0.2265 - val_acc: 0.9358\nEpoch 14/30\n10321/10321 [==============================] - 1s 85us/step - loss: 0.0951 - acc: 0.9704 - val_loss: 0.2398 - val_acc: 0.9358\nEpoch 15/30\n10321/10321 [==============================] - 1s 93us/step - loss: 0.0907 - acc: 0.9708 - val_loss: 0.2436 - val_acc: 0.9394\nEpoch 16/30\n10321/10321 [==============================] - 1s 95us/step - loss: 0.0898 - acc: 0.9720 - val_loss: 0.2406 - val_acc: 0.9382\nEpoch 17/30\n10321/10321 [==============================] - 1s 82us/step - loss: 0.0880 - acc: 0.9724 - val_loss: 0.2355 - val_acc: 0.9432\nEpoch 18/30\n10321/10321 [==============================] - 1s 83us/step - loss: 0.0856 - acc: 0.9733 - val_loss: 0.2292 - val_acc: 0.9414\nEpoch 19/30\n10321/10321 [==============================] - 1s 81us/step - loss: 0.0839 - acc: 0.9739 - val_loss: 0.2183 - val_acc: 0.9454\nEpoch 20/30\n10321/10321 [==============================] - 1s 84us/step - loss: 0.0822 - acc: 0.9737 - val_loss: 0.2309 - val_acc: 0.9449\nEpoch 21/30\n10321/10321 [==============================] - 1s 88us/step - loss: 0.0799 - acc: 0.9748 - val_loss: 0.2189 - val_acc: 0.9484\nEpoch 22/30\n10321/10321 [==============================] - 1s 86us/step - loss: 0.0812 - acc: 0.9744 - val_loss: 0.2299 - val_acc: 0.9448\nEpoch 23/30\n10321/10321 [==============================] - 1s 89us/step - loss: 0.0752 - acc: 0.9771 - val_loss: 0.2475 - val_acc: 0.9423\nEpoch 24/30\n10321/10321 [==============================] - 1s 87us/step - loss: 0.0777 - acc: 0.9768 - val_loss: 0.2511 - val_acc: 0.9420\nEpoch 25/30\n10321/10321 [==============================] - 1s 86us/step - loss: 0.0756 - acc: 0.9774 - val_loss: 0.2299 - val_acc: 0.9502\nEpoch 26/30\n10321/10321 [==============================] - 1s 94us/step - loss: 0.0732 - acc: 0.9773 - val_loss: 0.2078 - val_acc: 0.9518\nEpoch 27/30\n10321/10321 [==============================] - 1s 81us/step - loss: 0.0736 - acc: 0.9778 - val_loss: 0.2206 - val_acc: 0.9458\nEpoch 28/30\n10321/10321 [==============================] - 1s 94us/step - loss: 0.0723 - acc: 0.9778 - val_loss: 0.2566 - val_acc: 0.9417\nEpoch 29/30\n10321/10321 [==============================] - 1s 83us/step - loss: 0.0797 - acc: 0.9764 - val_loss: 0.2588 - val_acc: 0.9417\nEpoch 30/30\n10321/10321 [==============================] - 1s 82us/step - loss: 0.0741 - acc: 0.9779 - val_loss: 0.2312 - val_acc: 0.9459\n"
                }
            ], 
            "execution_count": 169
        }, 
        {
            "source": "plt.plot(results.history['acc'], label='Train Accuracy')\nplt.plot(results.history['val_acc'], label='Test Accuracy')\nplt.legend()", 
            "cell_type": "code", 
            "metadata": {}, 
            "outputs": [
                {
                    "execution_count": 170, 
                    "output_type": "execute_result", 
                    "data": {
                        "text/plain": "<matplotlib.legend.Legend at 0x141b69da0>"
                    }, 
                    "metadata": {}
                }, 
                {
                    "output_type": "display_data", 
                    "data": {
                        "image/png": "[encoded data removed]", 
                        "text/plain": "<Figure size 432x288 with 1 Axes>"
                    }, 
                    "metadata": {
                        "needs_background": "light"
                    }
                }
            ], 
            "execution_count": 170
        }, 
        {
            "source": "", 
            "cell_type": "code", 
            "metadata": {}, 
            "outputs": [], 
            "execution_count": null
        }, 
        {
            "source": "", 
            "cell_type": "code", 
            "metadata": {}, 
            "outputs": [], 
            "execution_count": null
        }
    ], 
    "metadata": {
        "kernelspec": {
            "display_name": "Python 3.5", 
            "name": "python3", 
            "language": "python"
        }, 
        "language_info": {
            "mimetype": "text/x-python", 
            "nbconvert_exporter": "python", 
            "version": "3.5.5", 
            "name": "python", 
            "pygments_lexer": "ipython3", 
            "file_extension": ".py", 
            "codemirror_mode": {
                "version": 3, 
                "name": "ipython"
            }
        }
    }, 
    "nbformat": 4
}