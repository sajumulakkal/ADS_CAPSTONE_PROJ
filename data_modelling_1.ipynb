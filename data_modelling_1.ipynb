{
    "nbformat_minor": 1, 
    "cells": [
        {
            "source": "import pandas as pd\nimport numpy as np\nimport matplotlib.pyplot as plt\n\nfrom sklearn.model_selection import train_test_split, cross_val_score, GridSearchCV\nfrom sklearn.linear_model import LogisticRegressionCV, LogisticRegression\nfrom sklearn.tree import DecisionTreeClassifier, ExtraTreeClassifier\nfrom sklearn.ensemble import RandomForestClassifier, GradientBoostingClassifier, BaggingClassifier, AdaBoostClassifier\nfrom sklearn.preprocessing import StandardScaler, PolynomialFeatures\nfrom sklearn.neighbors import KNeighborsClassifier\nfrom sklearn import naive_bayes\nfrom sklearn.naive_bayes import MultinomialNB\nfrom sklearn.decomposition import PCA\nfrom sklearn.metrics import accuracy_score, r2_score, confusion_matrix\nfrom sklearn import svm\n\nfrom xgboost import XGBClassifier\n\nfrom keras.models import Sequential\nfrom keras.layers import Dense, Dropout\nfrom keras import regularizers\nfrom keras.callbacks import EarlyStopping\nfrom keras.utils import to_categorical\n\nimport warnings\n\n%matplotlib inline", 
            "cell_type": "code", 
            "metadata": {}, 
            "outputs": [
                {
                    "output_type": "stream", 
                    "name": "stderr", 
                    "text": "/opt/conda/envs/DSX-Python35/lib/python3.5/site-packages/sklearn/cross_validation.py:41: DeprecationWarning: This module was deprecated in version 0.18 in favor of the model_selection module into which all the refactored classes and functions are moved. Also note that the interface of the new CV iterators are different from that of this module. This module will be removed in 0.20.\n  \"This module will be removed in 0.20.\", DeprecationWarning)\nUsing TensorFlow backend.\n"
                }
            ], 
            "execution_count": 1
        }, 
        {
            "source": "# Modeling", 
            "cell_type": "markdown", 
            "metadata": {}
        }, 
        {
            "source": "df = pd.read_csv('../preprocessed_data_classification_Z.csv', index_col=0)", 
            "cell_type": "code", 
            "metadata": {}, 
            "outputs": [
                {
                    "output_type": "error", 
                    "evalue": "name 'pd' is not defined", 
                    "traceback": [
                        "\u001b[0;31m---------------------------------------------------------------------------\u001b[0m", 
                        "\u001b[0;31mNameError\u001b[0m                                 Traceback (most recent call last)", 
                        "\u001b[0;32m<ipython-input-2-6dfbd25b3197>\u001b[0m in \u001b[0;36m<module>\u001b[0;34m()\u001b[0m\n\u001b[0;32m----> 1\u001b[0;31m \u001b[0mdf\u001b[0m \u001b[0;34m=\u001b[0m \u001b[0mpd\u001b[0m\u001b[0;34m.\u001b[0m\u001b[0mread_csv\u001b[0m\u001b[0;34m(\u001b[0m\u001b[0;34m'../preprocessed_data_classification_Z.csv'\u001b[0m\u001b[0;34m,\u001b[0m \u001b[0mindex_col\u001b[0m\u001b[0;34m=\u001b[0m\u001b[0;36m0\u001b[0m\u001b[0;34m)\u001b[0m\u001b[0;34m\u001b[0m\u001b[0m\n\u001b[0m", 
                        "\u001b[0;31mNameError\u001b[0m: name 'pd' is not defined"
                    ], 
                    "ename": "NameError"
                }
            ], 
            "execution_count": 2
        }, 
        {
            "source": "# Baseline Accuracy", 
            "cell_type": "markdown", 
            "metadata": {}
        }, 
        {
            "source": "score_marked_restaurant_count=df.score.count()", 
            "cell_type": "code", 
            "metadata": {}, 
            "outputs": [], 
            "execution_count": 3
        }, 
        {
            "source": "df.groupby('score').count()[['rating']]", 
            "cell_type": "code", 
            "metadata": {}, 
            "outputs": [
                {
                    "output_type": "execute_result", 
                    "data": {
                        "text/html": "<div>\n<style scoped>\n    .dataframe tbody tr th:only-of-type {\n        vertical-align: middle;\n    }\n\n    .dataframe tbody tr th {\n        vertical-align: top;\n    }\n\n    .dataframe thead th {\n        text-align: right;\n    }\n</style>\n<table border=\"1\" class=\"dataframe\">\n  <thead>\n    <tr style=\"text-align: right;\">\n      <th></th>\n      <th>rating</th>\n    </tr>\n    <tr>\n      <th>score</th>\n      <th></th>\n    </tr>\n  </thead>\n  <tbody>\n    <tr>\n      <th>0</th>\n      <td>4862</td>\n    </tr>\n    <tr>\n      <th>1</th>\n      <td>1744</td>\n    </tr>\n    <tr>\n      <th>2</th>\n      <td>828</td>\n    </tr>\n  </tbody>\n</table>\n</div>", 
                        "text/plain": "       rating\nscore        \n0        4862\n1        1744\n2         828"
                    }, 
                    "execution_count": 4, 
                    "metadata": {}
                }
            ], 
            "execution_count": 4
        }, 
        {
            "source": "score_0_marked_restaurant_count = df[df.score == 0].score.count()\nscore_0_marked_restaurant_count ", 
            "cell_type": "code", 
            "metadata": {}, 
            "outputs": [
                {
                    "output_type": "execute_result", 
                    "data": {
                        "text/plain": "4862"
                    }, 
                    "execution_count": 5, 
                    "metadata": {}
                }
            ], 
            "execution_count": 5
        }, 
        {
            "source": "score_1_marked_restaurant_count = df[df.score == 1].score.count()\nscore_1_marked_restaurant_count ", 
            "cell_type": "code", 
            "metadata": {}, 
            "outputs": [
                {
                    "output_type": "execute_result", 
                    "data": {
                        "text/plain": "1744"
                    }, 
                    "execution_count": 6, 
                    "metadata": {}
                }
            ], 
            "execution_count": 6
        }, 
        {
            "source": "score_2_marked_restaurant_count = df[df.score == 2].score.count()\nscore_2_marked_restaurant_count ", 
            "cell_type": "code", 
            "metadata": {}, 
            "outputs": [
                {
                    "output_type": "execute_result", 
                    "data": {
                        "text/plain": "828"
                    }, 
                    "execution_count": 7, 
                    "metadata": {}
                }
            ], 
            "execution_count": 7
        }, 
        {
            "source": "score_0_percent = (score_0_marked_restaurant_count/score_marked_restaurant_count) * 100\nscore_0_percent", 
            "cell_type": "code", 
            "metadata": {}, 
            "outputs": [
                {
                    "output_type": "execute_result", 
                    "data": {
                        "text/plain": "65.402206080172192"
                    }, 
                    "execution_count": 8, 
                    "metadata": {}
                }
            ], 
            "execution_count": 8
        }, 
        {
            "source": "score_1_percent = (score_1_marked_restaurant_count/score_marked_restaurant_count) * 100\nscore_1_percent", 
            "cell_type": "code", 
            "metadata": {}, 
            "outputs": [
                {
                    "output_type": "execute_result", 
                    "data": {
                        "text/plain": "23.459779391982782"
                    }, 
                    "execution_count": 9, 
                    "metadata": {}
                }
            ], 
            "execution_count": 9
        }, 
        {
            "source": "score_2_percent = (score_2_marked_restaurant_count/score_marked_restaurant_count) * 100\nscore_2_percent", 
            "cell_type": "code", 
            "metadata": {}, 
            "outputs": [
                {
                    "output_type": "execute_result", 
                    "data": {
                        "text/plain": "11.138014527845035"
                    }, 
                    "execution_count": 10, 
                    "metadata": {}
                }
            ], 
            "execution_count": 10
        }, 
        {
            "source": "# Oversampling", 
            "cell_type": "markdown", 
            "metadata": {}
        }, 
        {
            "source": "# Class count\ncount_class_0, count_class_1, count_class_2 = df.score.value_counts()\n\n# Divide by class\ndf_class_0 = df[df['score'] == 0]\ndf_class_1 = df[df['score'] == 1]\ndf_class_2 = df[df['score'] == 2]\n\nprint('Befor re-sampling:')\nprint(df.score.value_counts())\n\ndf.score.value_counts().plot(kind='bar', title='Count (target)');", 
            "cell_type": "code", 
            "metadata": {}, 
            "outputs": [
                {
                    "output_type": "stream", 
                    "name": "stdout", 
                    "text": "Befor re-sampling:\n0    4862\n1    1744\n2     828\nName: score, dtype: int64\n"
                }, 
                {
                    "output_type": "display_data", 
                    "data": {
                        "image/png": "[encoded data removed]", 
                        "text/plain": "<matplotlib.figure.Figure at 0x7fae141c0dd8>"
                    }, 
                    "metadata": {}
                }
            ], 
            "execution_count": 11
        }, 
        {
            "source": "df_class_1_over = df_class_1.sample(count_class_0, replace=True)\ndf_class_2_over = df_class_2.sample(count_class_0, replace=True)\n\ndf_over = pd.concat([df_class_0, df_class_1_over], axis=0)\ndf_over = pd.concat([df_over, df_class_2_over], axis=0)\n\nprint('Random over-sampling:')\nprint(df_over.score.value_counts())\n\ndf_over.score.value_counts().plot(kind='bar', title='Count (target)');", 
            "cell_type": "code", 
            "metadata": {}, 
            "outputs": [
                {
                    "output_type": "stream", 
                    "name": "stdout", 
                    "text": "Random over-sampling:\n2    4862\n1    4862\n0    4862\nName: score, dtype: int64\n"
                }, 
                {
                    "output_type": "display_data", 
                    "data": {
                        "image/png": "[encoded data removed]", 
                        "text/plain": "<matplotlib.figure.Figure at 0x7fae1342d1d0>"
                    }, 
                    "metadata": {}
                }
            ], 
            "execution_count": 12
        }, 
        {
            "source": "warnings.filterwarnings('ignore')", 
            "cell_type": "code", 
            "metadata": {}, 
            "outputs": [], 
            "execution_count": 13
        }, 
        {
            "source": "random_forest = RandomForestClassifier()\nextra_tree = ExtraTreeClassifier()\ndecision_tree = DecisionTreeClassifier()\nbagged_tree = BaggingClassifier()\nknn = KNeighborsClassifier()\nlogreg = LogisticRegression()", 
            "cell_type": "code", 
            "metadata": {}, 
            "outputs": [], 
            "execution_count": 14
        }, 
        {
            "source": "#multi_naive = MultinomialNB()", 
            "cell_type": "code", 
            "metadata": {}, 
            "outputs": [], 
            "execution_count": null
        }, 
        {
            "source": "X = df.drop(columns=['score'])\ny = df['score']\n    \nX_train, X_test, y_train, y_test = train_test_split(X, y, random_state = 42, stratify = y)\n    \nmodel = StandardScaler()\nX_train_sc = model.fit_transform(X_train)\nX_test_sc = model.transform(X_test)\ndata = pd.DataFrame(columns=['model', 'cross-val', 'train', 'test'])\nrandom_forest.fit(X_train_sc, y_train)\ndata = data.append({'model': 'random_forest',\n                        'cross-val': cross_val_score(random_forest, X_train_sc, y_train).mean(),\n                        'train': random_forest.score(X_train_sc, y_train),\n                        'test': random_forest.score(X_test_sc, y_test)}, ignore_index=True)\ndata", 
            "cell_type": "code", 
            "metadata": {}, 
            "outputs": [
                {
                    "output_type": "execute_result", 
                    "data": {
                        "text/html": "<div>\n<style scoped>\n    .dataframe tbody tr th:only-of-type {\n        vertical-align: middle;\n    }\n\n    .dataframe tbody tr th {\n        vertical-align: top;\n    }\n\n    .dataframe thead th {\n        text-align: right;\n    }\n</style>\n<table border=\"1\" class=\"dataframe\">\n  <thead>\n    <tr style=\"text-align: right;\">\n      <th></th>\n      <th>model</th>\n      <th>cross-val</th>\n      <th>train</th>\n      <th>test</th>\n    </tr>\n  </thead>\n  <tbody>\n    <tr>\n      <th>0</th>\n      <td>random_forest</td>\n      <td>0.601615</td>\n      <td>0.893632</td>\n      <td>0.605164</td>\n    </tr>\n  </tbody>\n</table>\n</div>", 
                        "text/plain": "           model  cross-val     train      test\n0  random_forest   0.601615  0.893632  0.605164"
                    }, 
                    "execution_count": 15, 
                    "metadata": {}
                }
            ], 
            "execution_count": 15
        }, 
        {
            "source": "pd.Series(y).value_counts()", 
            "cell_type": "code", 
            "metadata": {}, 
            "outputs": [
                {
                    "output_type": "execute_result", 
                    "data": {
                        "text/plain": "0    4862\n1    1744\n2     828\nName: score, dtype: int64"
                    }, 
                    "execution_count": 16, 
                    "metadata": {}
                }
            ], 
            "execution_count": 16
        }, 
        {
            "source": "pd.Series(random_forest.predict(X_test_sc)).value_counts(1)", 
            "cell_type": "code", 
            "metadata": {}, 
            "outputs": [
                {
                    "output_type": "execute_result", 
                    "data": {
                        "text/plain": "0    0.770307\n1    0.162991\n2    0.066703\ndtype: float64"
                    }, 
                    "execution_count": 17, 
                    "metadata": {}
                }
            ], 
            "execution_count": 17
        }, 
        {
            "source": "# Random_forest,extra_tree, decision_tree, bagged_tree, logreg and knn", 
            "cell_type": "markdown", 
            "metadata": {}
        }, 
        {
            "source": "def scores(models):\n    X = df.drop(columns=['score'])\n    y = df['score']\n    \n    X_train, X_test, y_train, y_test = train_test_split(X, y, random_state = 42, stratify = y)\n    \n    model = StandardScaler()\n    X_train_sc = model.fit_transform(X_train)\n    X_test_sc = model.transform(X_test)\n    data = pd.DataFrame(columns=['model', 'cross-val', 'train', 'test'])\n\n    for i in models:\n        i.fit(X_train_sc, y_train)\n        data = data.append({'model': str(i),\n                        'cross-val': cross_val_score(i, X_train_sc, y_train).mean(),\n                        'train': i.score(X_train_sc, y_train),\n                        'test': i.score(X_test_sc, y_test)}, ignore_index=True)\n    return data", 
            "cell_type": "code", 
            "metadata": {}, 
            "outputs": [], 
            "execution_count": 18
        }, 
        {
            "source": "a = scores([random_forest, extra_tree, decision_tree, bagged_tree, logreg, knn])", 
            "cell_type": "code", 
            "metadata": {}, 
            "outputs": [], 
            "execution_count": 19
        }, 
        {
            "source": "a", 
            "cell_type": "code", 
            "metadata": {}, 
            "outputs": [
                {
                    "output_type": "execute_result", 
                    "data": {
                        "text/html": "<div>\n<style scoped>\n    .dataframe tbody tr th:only-of-type {\n        vertical-align: middle;\n    }\n\n    .dataframe tbody tr th {\n        vertical-align: top;\n    }\n\n    .dataframe thead th {\n        text-align: right;\n    }\n</style>\n<table border=\"1\" class=\"dataframe\">\n  <thead>\n    <tr style=\"text-align: right;\">\n      <th></th>\n      <th>model</th>\n      <th>cross-val</th>\n      <th>train</th>\n      <th>test</th>\n    </tr>\n  </thead>\n  <tbody>\n    <tr>\n      <th>0</th>\n      <td>RandomForestClassifier(bootstrap=True, class_w...</td>\n      <td>0.600718</td>\n      <td>0.891839</td>\n      <td>0.590102</td>\n    </tr>\n    <tr>\n      <th>1</th>\n      <td>ExtraTreeClassifier(class_weight=None, criteri...</td>\n      <td>0.549418</td>\n      <td>0.910673</td>\n      <td>0.549220</td>\n    </tr>\n    <tr>\n      <th>2</th>\n      <td>DecisionTreeClassifier(class_weight=None, crit...</td>\n      <td>0.554440</td>\n      <td>0.910673</td>\n      <td>0.565896</td>\n    </tr>\n    <tr>\n      <th>3</th>\n      <td>BaggingClassifier(base_estimator=None, bootstr...</td>\n      <td>0.599822</td>\n      <td>0.886457</td>\n      <td>0.601399</td>\n    </tr>\n    <tr>\n      <th>4</th>\n      <td>LogisticRegression(C=1.0, class_weight=None, d...</td>\n      <td>0.644842</td>\n      <td>0.659013</td>\n      <td>0.650350</td>\n    </tr>\n    <tr>\n      <th>5</th>\n      <td>KNeighborsClassifier(algorithm='auto', leaf_si...</td>\n      <td>0.604126</td>\n      <td>0.711211</td>\n      <td>0.617536</td>\n    </tr>\n  </tbody>\n</table>\n</div>", 
                        "text/plain": "                                               model  cross-val     train  \\\n0  RandomForestClassifier(bootstrap=True, class_w...   0.600718  0.891839   \n1  ExtraTreeClassifier(class_weight=None, criteri...   0.549418  0.910673   \n2  DecisionTreeClassifier(class_weight=None, crit...   0.554440  0.910673   \n3  BaggingClassifier(base_estimator=None, bootstr...   0.599822  0.886457   \n4  LogisticRegression(C=1.0, class_weight=None, d...   0.644842  0.659013   \n5  KNeighborsClassifier(algorithm='auto', leaf_si...   0.604126  0.711211   \n\n       test  \n0  0.590102  \n1  0.549220  \n2  0.565896  \n3  0.601399  \n4  0.650350  \n5  0.617536  "
                    }, 
                    "execution_count": 20, 
                    "metadata": {}
                }
            ], 
            "execution_count": 20
        }, 
        {
            "source": "  model = PCA()", 
            "cell_type": "code", 
            "metadata": {}, 
            "outputs": [], 
            "execution_count": 21
        }, 
        {
            "source": " X = df.drop(columns=['score'])", 
            "cell_type": "code", 
            "metadata": {}, 
            "outputs": [
                {
                    "output_type": "error", 
                    "evalue": "name 'df' is not defined", 
                    "traceback": [
                        "\u001b[0;31m---------------------------------------------------------------------------\u001b[0m", 
                        "\u001b[0;31mNameError\u001b[0m                                 Traceback (most recent call last)", 
                        "\u001b[0;32m<ipython-input-1-2ba21b865ec3>\u001b[0m in \u001b[0;36m<module>\u001b[0;34m()\u001b[0m\n\u001b[0;32m----> 1\u001b[0;31m \u001b[0mX\u001b[0m \u001b[0;34m=\u001b[0m \u001b[0mdf\u001b[0m\u001b[0;34m.\u001b[0m\u001b[0mdrop\u001b[0m\u001b[0;34m(\u001b[0m\u001b[0mcolumns\u001b[0m\u001b[0;34m=\u001b[0m\u001b[0;34m[\u001b[0m\u001b[0;34m'score'\u001b[0m\u001b[0;34m]\u001b[0m\u001b[0;34m)\u001b[0m\u001b[0;34m\u001b[0m\u001b[0m\n\u001b[0m", 
                        "\u001b[0;31mNameError\u001b[0m: name 'df' is not defined"
                    ], 
                    "ename": "NameError"
                }
            ], 
            "execution_count": 1
        }, 
        {
            "source": "    X = df.drop(columns=['score'])\n    y = df['score']\n    \n    poly = PolynomialFeatures(include_bias=False)\n    X_poly = poly.fit_transform(X)\n    \n    poly_col_names = poly.get_feature_names(X.columns)\n    X = pd.DataFrame(X_poly, columns=poly_col_names)\n    \n    X_train, X_test, y_train, y_test = train_test_split(X, y, random_state = 42, stratify = y)\n    \n\n    X_train_sc = model.fit_transform(X_train)\n    X_test_sc = model.transform(X_test)\n    \n", 
            "cell_type": "code", 
            "metadata": {}, 
            "outputs": [], 
            "execution_count": null
        }, 
        {
            "source": "    data = pd.DataFrame(columns=['model', 'cross-val', 'train', 'test'])\n\nrandom_forest.fit(X_train_sc, y_train)\ndata = data.append({'model': 'random_forest',\n                        'cross-val': cross_val_score(random_forest, X_train_sc, y_train).mean(),\n                        'train': random_forest.score(X_train_sc, y_train),\n                        'test': random_forest.score(X_test_sc, y_test)}, ignore_index=True)\ndata", 
            "cell_type": "code", 
            "metadata": {}, 
            "outputs": [], 
            "execution_count": null
        }, 
        {
            "source": "def pca_scores(models):\n    X = df.drop(columns=['score'])\n    y = df['score']\n    \n    poly = PolynomialFeatures(include_bias=False)\n    X_poly = poly.fit_transform(X)\n    \n    poly_col_names = poly.get_feature_names(X.columns)\n    X = pd.DataFrame(X_poly, columns=poly_col_names)\n    \n    X_train, X_test, y_train, y_test = train_test_split(X, y, random_state = 42, stratify = y)\n    \n    model = PCA()\n    X_train_sc = model.fit_transform(X_train)\n    X_test_sc = model.transform(X_test)\n    \n    data = pd.DataFrame(columns=['model', 'cross-val', 'train', 'test'])\n\n    for i in models:\n        i.fit(X_train_sc, y_train)\n        data = data.append({'model': str(i),\n                        'cross-val': cross_val_score(i, X_train_sc, y_train).mean(),\n                        'train': i.score(X_train_sc, y_train),\n                        'test': i.score(X_test_sc, y_test)}, ignore_index=True)\n    return data", 
            "cell_type": "code", 
            "metadata": {}, 
            "outputs": [], 
            "execution_count": null
        }, 
        {
            "source": "b = pca_scores([random_forest, extra_tree, decision_tree, bagged_tree, logreg, knn])", 
            "cell_type": "code", 
            "metadata": {}, 
            "outputs": [], 
            "execution_count": null
        }, 
        {
            "source": "pd.merge(a, b, on='model')", 
            "cell_type": "code", 
            "metadata": {}, 
            "outputs": [], 
            "execution_count": null
        }, 
        {
            "source": "", 
            "cell_type": "code", 
            "metadata": {}, 
            "outputs": [], 
            "execution_count": null
        }, 
        {
            "source": "X = df_over.drop(columns=['score'])\ny = df_over['score']\n\nX_train, X_test, y_train, y_test = train_test_split(X, y, random_state = 42, stratify = y)\n\nmodel = StandardScaler()\nX_train_sc = model.fit_transform(X_train)\nX_test_sc = model.transform(X_test)", 
            "cell_type": "code", 
            "metadata": {}, 
            "outputs": [], 
            "execution_count": null
        }, 
        {
            "source": "", 
            "cell_type": "code", 
            "metadata": {}, 
            "outputs": [], 
            "execution_count": null
        }, 
        {
            "source": "model = XGBClassifier()\nmodel.fit(X_train_sc, y_train)\ny_pred = model.predict(X_test_sc)\n\naccuracy = accuracy_score(y_test, y_pred)\nprint(\"Accuracy: %.2f%%\" % (accuracy * 100.0))", 
            "cell_type": "code", 
            "metadata": {}, 
            "outputs": [], 
            "execution_count": null
        }, 
        {
            "source": "", 
            "cell_type": "code", 
            "metadata": {}, 
            "outputs": [], 
            "execution_count": null
        }, 
        {
            "source": "X = df_over.drop(columns=['score'])\ny = df_over['score']\n\nX_train, X_test, y_train, y_test = train_test_split(X, y, random_state = 42, stratify = y)\n\nmodel = StandardScaler()\nX_train_sc = model.fit_transform(X_train)\nX_test_sc = model.transform(X_test)\n\nscores_test = []\nscores_train = []\nn_estimators = []\n\nfor n_est in range(30):\n    ada = AdaBoostClassifier(n_estimators=n_est+1, random_state=42)\n    ada.fit(X_train_sc, y_train)\n    n_estimators.append(n_est+1)\n    scores_test.append(ada.score(X_test_sc, y_test))\n    scores_train.append(ada.score(X_train_sc, y_train))", 
            "cell_type": "code", 
            "metadata": {}, 
            "outputs": [], 
            "execution_count": null
        }, 
        {
            "source": "", 
            "cell_type": "code", 
            "metadata": {}, 
            "outputs": [], 
            "execution_count": null
        }, 
        {
            "source": "plt.plot(n_estimators, scores_test, label='Test Scores')\nplt.plot(n_estimators, scores_train, label=\"Train Scores\")\nplt.xlabel(\"# Estimators\")\nplt.ylabel('Accuracy')\nplt.legend()", 
            "cell_type": "code", 
            "metadata": {}, 
            "outputs": [], 
            "execution_count": null
        }, 
        {
            "source": "", 
            "cell_type": "code", 
            "metadata": {}, 
            "outputs": [], 
            "execution_count": null
        }, 
        {
            "source": "X = df_over.drop(columns=['score'])\ny = df_over['score']\n\nX_train, X_test, y_train, y_test = train_test_split(X, y, random_state = 42, stratify = y)\n\nmodel = StandardScaler()\nX_train_sc = model.fit_transform(X_train)\nX_test_sc = model.transform(X_test)\n\nscores_test = []\nscores_train = []\nn_estimators = []\n\nfor n_est in range(30):\n    grb = GradientBoostingClassifier(n_estimators=n_est+1, random_state=42)\n    grb.fit(X_train_sc, y_train)\n    n_estimators.append(n_est+1)\n    scores_test.append(ada.score(X_test_sc, y_test))\n    scores_train.append(ada.score(X_train_sc, y_train))", 
            "cell_type": "code", 
            "metadata": {}, 
            "outputs": [], 
            "execution_count": null
        }, 
        {
            "source": "", 
            "cell_type": "code", 
            "metadata": {}, 
            "outputs": [], 
            "execution_count": null
        }, 
        {
            "source": "\nplt.plot(n_estimators, scores_test, label='Test Scores')\nplt.plot(n_estimators, scores_train, label=\"Train Scores\")\nplt.xlabel(\"# Estimators\")\nplt.ylabel('Accuracy')\nplt.legend()", 
            "cell_type": "code", 
            "metadata": {}, 
            "outputs": [], 
            "execution_count": null
        }, 
        {
            "source": "", 
            "cell_type": "code", 
            "metadata": {}, 
            "outputs": [], 
            "execution_count": null
        }, 
        {
            "source": "X = df_over.drop(columns=['score'])\ny = df_over['score']\n\nX_train, X_test, y_train, y_test = train_test_split(X, y, random_state = 42, stratify = y)\n\nmodel = StandardScaler()\nX_train_sc = model.fit_transform(X_train)\nX_test_sc = model.transform(X_test)\n\nsvc = svm.SVC(C=100)\nsvc.fit(X_train_sc, y_train)\n\ny_pred = svc.predict(X_test_sc)\n\naccuracy_score(y_test, y_pred)", 
            "cell_type": "code", 
            "metadata": {}, 
            "outputs": [], 
            "execution_count": null
        }, 
        {
            "source": "", 
            "cell_type": "code", 
            "metadata": {}, 
            "outputs": [], 
            "execution_count": null
        }, 
        {
            "source": "\nsvc_param = {\n    'C': [100, 10, 1, 0.1, 0.01],\n    'kernel':['poly'],\n    'degree': [2, 3, 4]\n    \n}\n\ngrid = GridSearchCV(\n    svc,\n    svc_param,\n    cv = 5,\n    verbose = 1,\n    return_train_score = True\n)\n\ngrid.fit(X_train, y_train)", 
            "cell_type": "code", 
            "metadata": {}, 
            "outputs": [], 
            "execution_count": null
        }, 
        {
            "source": "", 
            "cell_type": "code", 
            "metadata": {}, 
            "outputs": [], 
            "execution_count": null
        }, 
        {
            "source": "X = df.drop(columns=['score'])\ny = to_categorical(df['score'])\n\nX_train, X_test, y_train, y_test = train_test_split(X, y, random_state = 42, stratify = y)\n\nmodel = StandardScaler()\nX_train_sc = model.fit_transform(X_train)\nX_test_sc = model.transform(X_test)", 
            "cell_type": "code", 
            "metadata": {}, 
            "outputs": [], 
            "execution_count": null
        }, 
        {
            "source": "", 
            "cell_type": "code", 
            "metadata": {}, 
            "outputs": [], 
            "execution_count": null
        }, 
        {
            "source": "model = Sequential()\n\n# First hidden layer\nmodel.add(Dense(50, activation='relu', input_dim=X_train.shape[1]))\n\n# Second hidden layer\nmodel.add(Dense(100, activation='relu'))\n\n# For multiclass classification,\n# 1 neuron\n# softmax activation function\nmodel.add(Dense(3, activation='softmax'))", 
            "cell_type": "code", 
            "metadata": {}, 
            "outputs": [], 
            "execution_count": null
        }, 
        {
            "source": "", 
            "cell_type": "code", 
            "metadata": {}, 
            "outputs": [], 
            "execution_count": null
        }, 
        {
            "source": "model.compile(loss='categorical_crossentropy', optimizer='adam', metrics=['accuracy'])", 
            "cell_type": "code", 
            "metadata": {}, 
            "outputs": [], 
            "execution_count": null
        }, 
        {
            "source": "", 
            "cell_type": "code", 
            "metadata": {}, 
            "outputs": [], 
            "execution_count": null
        }, 
        {
            "source": "\nresults = model.fit(X_train_sc, y_train,\n          epochs=15,\n          validation_data=(X_test_sc, y_test))", 
            "cell_type": "code", 
            "metadata": {}, 
            "outputs": [], 
            "execution_count": null
        }, 
        {
            "source": "", 
            "cell_type": "code", 
            "metadata": {}, 
            "outputs": [], 
            "execution_count": null
        }, 
        {
            "source": "\nplt.plot(results.history['acc'], label='Train Accuracy')\nplt.plot(results.history['val_acc'], label='Test Accuracy')\nplt.legend()", 
            "cell_type": "code", 
            "metadata": {}, 
            "outputs": [], 
            "execution_count": null
        }, 
        {
            "source": "", 
            "cell_type": "code", 
            "metadata": {}, 
            "outputs": [], 
            "execution_count": null
        }, 
        {
            "source": "", 
            "cell_type": "code", 
            "metadata": {}, 
            "outputs": [], 
            "execution_count": null
        }
    ], 
    "metadata": {
        "kernelspec": {
            "display_name": "Python 3.5", 
            "name": "python3", 
            "language": "python"
        }, 
        "language_info": {
            "mimetype": "text/x-python", 
            "nbconvert_exporter": "python", 
            "version": "3.5.5", 
            "name": "python", 
            "pygments_lexer": "ipython3", 
            "file_extension": ".py", 
            "codemirror_mode": {
                "version": 3, 
                "name": "ipython"
            }
        }
    }, 
    "nbformat": 4
}